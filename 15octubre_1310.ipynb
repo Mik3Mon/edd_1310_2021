{
  "nbformat": 4,
  "nbformat_minor": 0,
  "metadata": {
    "colab": {
      "name": "15octubre_1310.ipynb",
      "provenance": [],
      "authorship_tag": "ABX9TyPxVCqWKvdR7fV67oeTSXTt",
      "include_colab_link": true
    },
    "kernelspec": {
      "name": "python3",
      "display_name": "Python 3"
    }
  },
  "cells": [
    {
      "cell_type": "markdown",
      "metadata": {
        "id": "view-in-github",
        "colab_type": "text"
      },
      "source": [
        "<a href=\"https://colab.research.google.com/github/Mik3Mon/edd_1310_2021/blob/master/15octubre_1310.ipynb\" target=\"_parent\"><img src=\"https://colab.research.google.com/assets/colab-badge.svg\" alt=\"Open In Colab\"/></a>"
      ]
    },
    {
      "cell_type": "markdown",
      "metadata": {
        "id": "XjM2chnJB1p6"
      },
      "source": [
        "# Modulos\n",
        "Son recursos reutilizables que contienen varias \n",
        "funciones que pueden ser importadas a tu codigo"
      ]
    },
    {
      "cell_type": "code",
      "metadata": {
        "id": "LOJvQuzS-sk9",
        "outputId": "c06a14e8-877f-4d17-c926-f0a63f300a67",
        "colab": {
          "base_uri": "https://localhost:8080/",
          "height": 51
        }
      },
      "source": [
        "\"\"\"\n",
        "import mi_modulo\n",
        "\n",
        "x = mi_modulo.sumar(4 , 7)\n",
        "print(x)\n",
        "\n",
        "print(mi_modulo.multiplicar(3,5))\n",
        "\"\"\""
      ],
      "execution_count": 3,
      "outputs": [
        {
          "output_type": "stream",
          "text": [
            "11\n",
            "15\n"
          ],
          "name": "stdout"
        }
      ]
    },
    {
      "cell_type": "code",
      "metadata": {
        "id": "6_4k3iSDKS7Z",
        "outputId": "85b00fc6-d58e-439f-e9dd-dbb21c78c4d3",
        "colab": {
          "base_uri": "https://localhost:8080/",
          "height": 51
        }
      },
      "source": [
        "from mi_modulo import sumar, dividir\n",
        "\n",
        "print(sumar(4,7))\n",
        "print(dividir(14,7))"
      ],
      "execution_count": 6,
      "outputs": [
        {
          "output_type": "stream",
          "text": [
            "11\n",
            "2.0\n"
          ],
          "name": "stdout"
        }
      ]
    },
    {
      "cell_type": "code",
      "metadata": {
        "id": "F3j4lMiRLOGj",
        "outputId": "b49fc6ec-9778-4065-9202-b988fce74dcb",
        "colab": {
          "base_uri": "https://localhost:8080/",
          "height": 34
        }
      },
      "source": [
        "import mi_modulo as patito\n",
        "\n",
        "print(patito.sumar(4,6))"
      ],
      "execution_count": 5,
      "outputs": [
        {
          "output_type": "stream",
          "text": [
            "10\n"
          ],
          "name": "stdout"
        }
      ]
    },
    {
      "cell_type": "code",
      "metadata": {
        "id": "gQo_3kR0OCu7",
        "outputId": "3501ca9e-efb1-4a85-9153-0a976dfdd26b",
        "colab": {
          "base_uri": "https://localhost:8080/",
          "height": 35
        }
      },
      "source": [
        "from joke_generator import generate\n",
        "\n",
        "generate()\n"
      ],
      "execution_count": 11,
      "outputs": [
        {
          "output_type": "execute_result",
          "data": {
            "application/vnd.google.colaboratory.intrinsic+json": {
              "type": "string"
            },
            "text/plain": [
              "\"Have you heard of the band 1023MB? They haven't got a gig yet.\""
            ]
          },
          "metadata": {
            "tags": []
          },
          "execution_count": 11
        }
      ]
    },
    {
      "cell_type": "markdown",
      "metadata": {
        "id": "VQSIfX5iSTI1"
      },
      "source": [
        "# Archivos\n",
        "\n",
        "- open( str, str)\n",
        "    1. Nombre o ruta del archivo\n",
        "    1. Dos caracteres\n",
        "        - modo de apertura del archivo(r,w,a append si y solo si existe, x append si y solo si el archivo no existe)\n",
        "        - Formato del archivo (t o b)"
      ]
    },
    {
      "cell_type": "code",
      "metadata": {
        "id": "4GDAP3DHSyNO"
      },
      "source": [
        "archivo = open(\"saludo.txt\",\"wt\")\n",
        "archivo.write(\"Hola mundo \\n Ola k ase\")\n",
        "archivo.close()"
      ],
      "execution_count": 13,
      "outputs": []
    },
    {
      "cell_type": "code",
      "metadata": {
        "id": "gX-70MVhUcfc",
        "outputId": "b6bd5779-51f4-43f5-e7e6-e0e5a4b7db22",
        "colab": {
          "base_uri": "https://localhost:8080/",
          "height": 867
        }
      },
      "source": [
        "otro = open('./sample_data/anscombe.json',\"rt\")\n",
        "datos = otro.read()\n",
        "print(datos)\n",
        "otro.close()"
      ],
      "execution_count": 14,
      "outputs": [
        {
          "output_type": "stream",
          "text": [
            "[\n",
            "  {\"Series\":\"I\", \"X\":10.0, \"Y\":8.04},\n",
            "  {\"Series\":\"I\", \"X\":8.0, \"Y\":6.95},\n",
            "  {\"Series\":\"I\", \"X\":13.0, \"Y\":7.58},\n",
            "  {\"Series\":\"I\", \"X\":9.0, \"Y\":8.81},\n",
            "  {\"Series\":\"I\", \"X\":11.0, \"Y\":8.33},\n",
            "  {\"Series\":\"I\", \"X\":14.0, \"Y\":9.96},\n",
            "  {\"Series\":\"I\", \"X\":6.0, \"Y\":7.24},\n",
            "  {\"Series\":\"I\", \"X\":4.0, \"Y\":4.26},\n",
            "  {\"Series\":\"I\", \"X\":12.0, \"Y\":10.84},\n",
            "  {\"Series\":\"I\", \"X\":7.0, \"Y\":4.81},\n",
            "  {\"Series\":\"I\", \"X\":5.0, \"Y\":5.68},\n",
            "\n",
            "  {\"Series\":\"II\", \"X\":10.0, \"Y\":9.14},\n",
            "  {\"Series\":\"II\", \"X\":8.0, \"Y\":8.14},\n",
            "  {\"Series\":\"II\", \"X\":13.0, \"Y\":8.74},\n",
            "  {\"Series\":\"II\", \"X\":9.0, \"Y\":8.77},\n",
            "  {\"Series\":\"II\", \"X\":11.0, \"Y\":9.26},\n",
            "  {\"Series\":\"II\", \"X\":14.0, \"Y\":8.10},\n",
            "  {\"Series\":\"II\", \"X\":6.0, \"Y\":6.13},\n",
            "  {\"Series\":\"II\", \"X\":4.0, \"Y\":3.10},\n",
            "  {\"Series\":\"II\", \"X\":12.0, \"Y\":9.13},\n",
            "  {\"Series\":\"II\", \"X\":7.0, \"Y\":7.26},\n",
            "  {\"Series\":\"II\", \"X\":5.0, \"Y\":4.74},\n",
            "\n",
            "  {\"Series\":\"III\", \"X\":10.0, \"Y\":7.46},\n",
            "  {\"Series\":\"III\", \"X\":8.0, \"Y\":6.77},\n",
            "  {\"Series\":\"III\", \"X\":13.0, \"Y\":12.74},\n",
            "  {\"Series\":\"III\", \"X\":9.0, \"Y\":7.11},\n",
            "  {\"Series\":\"III\", \"X\":11.0, \"Y\":7.81},\n",
            "  {\"Series\":\"III\", \"X\":14.0, \"Y\":8.84},\n",
            "  {\"Series\":\"III\", \"X\":6.0, \"Y\":6.08},\n",
            "  {\"Series\":\"III\", \"X\":4.0, \"Y\":5.39},\n",
            "  {\"Series\":\"III\", \"X\":12.0, \"Y\":8.15},\n",
            "  {\"Series\":\"III\", \"X\":7.0, \"Y\":6.42},\n",
            "  {\"Series\":\"III\", \"X\":5.0, \"Y\":5.73},\n",
            "\n",
            "  {\"Series\":\"IV\", \"X\":8.0, \"Y\":6.58},\n",
            "  {\"Series\":\"IV\", \"X\":8.0, \"Y\":5.76},\n",
            "  {\"Series\":\"IV\", \"X\":8.0, \"Y\":7.71},\n",
            "  {\"Series\":\"IV\", \"X\":8.0, \"Y\":8.84},\n",
            "  {\"Series\":\"IV\", \"X\":8.0, \"Y\":8.47},\n",
            "  {\"Series\":\"IV\", \"X\":8.0, \"Y\":7.04},\n",
            "  {\"Series\":\"IV\", \"X\":8.0, \"Y\":5.25},\n",
            "  {\"Series\":\"IV\", \"X\":19.0, \"Y\":12.50},\n",
            "  {\"Series\":\"IV\", \"X\":8.0, \"Y\":5.56},\n",
            "  {\"Series\":\"IV\", \"X\":8.0, \"Y\":7.91},\n",
            "  {\"Series\":\"IV\", \"X\":8.0, \"Y\":6.89}\n",
            "]\n",
            "\n"
          ],
          "name": "stdout"
        }
      ]
    },
    {
      "cell_type": "code",
      "metadata": {
        "id": "TYqyXwLkWo9u",
        "outputId": "40e2f5ea-c81f-4cac-c055-dc80e7df055d",
        "colab": {
          "base_uri": "https://localhost:8080/",
          "height": 255
        }
      },
      "source": [
        "arch = open('frutas.txt','rt')\n",
        "print(arch.readline())\n",
        "print(arch.readline())\n",
        "print(arch.readline())\n",
        "arch.close()\n",
        "\n",
        "arch = open('frutas.txt','rt')\n",
        "data = 'ppp'\n",
        "while (data != ''):\n",
        "    data = arch.readline()\n",
        "    print(data)\n",
        "arch.close()\n",
        "\n",
        "arch = open('frutas.txt','rt')\n",
        "list_frutas = arch.readlines()\n",
        "print(list_frutas)\n",
        "arch.close()"
      ],
      "execution_count": 23,
      "outputs": [
        {
          "output_type": "stream",
          "text": [
            "manzana, pera  , kiwi  , aguacate\n",
            "\n",
            "limon, naranja, \n",
            "\n",
            "sandia,  papaya\n",
            "\n",
            "manzana, pera  , kiwi  , aguacate\n",
            "\n",
            "limon, naranja, \n",
            "\n",
            "sandia,  papaya\n",
            "\n",
            "\n",
            "['manzana, pera  , kiwi  , aguacate\\n', 'limon, naranja, \\n', 'sandia,  papaya\\n']\n"
          ],
          "name": "stdout"
        }
      ]
    }
  ]
}