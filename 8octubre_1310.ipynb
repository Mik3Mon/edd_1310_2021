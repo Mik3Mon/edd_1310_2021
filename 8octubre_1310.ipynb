{
  "nbformat": 4,
  "nbformat_minor": 0,
  "metadata": {
    "colab": {
      "name": "8octubre_1310.ipynb",
      "provenance": [],
      "collapsed_sections": [],
      "authorship_tag": "ABX9TyMYp2MBWqjcZLM0Zt2vxuxc",
      "include_colab_link": true
    },
    "kernelspec": {
      "name": "python3",
      "display_name": "Python 3"
    }
  },
  "cells": [
    {
      "cell_type": "markdown",
      "metadata": {
        "id": "view-in-github",
        "colab_type": "text"
      },
      "source": [
        "<a href=\"https://colab.research.google.com/github/Mik3Mon/edd_1310_2021/blob/master/8octubre_1310.ipynb\" target=\"_parent\"><img src=\"https://colab.research.google.com/assets/colab-badge.svg\" alt=\"Open In Colab\"/></a>"
      ]
    },
    {
      "cell_type": "code",
      "metadata": {
        "id": "QoKgTeUV_FsA",
        "outputId": "3874c217-612d-4d5a-c70b-e0d6da660123",
        "colab": {
          "base_uri": "https://localhost:8080/",
          "height": 119
        }
      },
      "source": [
        "# Lista computadoras\n",
        "monitores =[[\"Samsung\",\"17.3 \\\"\",1024],[\"BenQ\",\"40\\\"\",2048]]\n",
        "procesadores = [[\"Intel\",\"i7\",3.4],[\"AMD\",\"razzer\",3.3],[\"Intel\",\"i3\",3.1]]\n",
        "memorias = [[\"Kingston\", \"8GB\",\"DDR4\"],[\"Kingston\", \"16GB\",\"DDR3\"],[\"ADATA\", \"32GB\",\"DDR4\"]]\n",
        "\n",
        "componentes = [monitores,procesadores,memorias]\n",
        "\n",
        "#print(componentes)\n",
        "\n",
        "print(componentes[1])\n",
        "print(componentes[2][1][1])\n",
        "print(componentes[0][1][2]*2)\n",
        "print(componentes[1][1][1][1:4:1])\n",
        "print(componentes[2][2][0].lower())\n",
        "# agregar lista a otra lista\n",
        "componentes[2].append([\"Patito\",\"32GB\",\"DDR4\"])\n",
        "print(componentes[2][3])\n"
      ],
      "execution_count": 10,
      "outputs": [
        {
          "output_type": "stream",
          "text": [
            "[['Intel', 'i7', 3.4], ['AMD', 'razzer', 3.3], ['Intel', 'i3', 3.1]]\n",
            "16GB\n",
            "4096\n",
            "azz\n",
            "adata\n",
            "['Patito', '32GB', 'DDR4']\n"
          ],
          "name": "stdout"
        }
      ]
    },
    {
      "cell_type": "code",
      "metadata": {
        "id": "ZRpeG10UHzZH",
        "outputId": "ca29a68e-b3ab-4ac2-9e82-4d47908264bf",
        "colab": {
          "base_uri": "https://localhost:8080/",
          "height": 187
        }
      },
      "source": [
        "# copiar listas\n",
        "# extender listas\n",
        "\n",
        "frutas = [\"manzana\", \"pera\"]\n",
        "otras_frutas = [\"aguacate\", \"sandia\"]\n",
        "\n",
        "# + sobre listas\n",
        "#frutas = frutas + otras_frutas\n",
        "#print(frutas)\n",
        "\n",
        "#funcion extend()\n",
        "frutas.extend(otras_frutas)\n",
        "print(frutas)\n",
        "\n",
        "frutas.append(otras_frutas)\n",
        "print(frutas)\n",
        "\n",
        "\n",
        "\n",
        "\n",
        "#copiar listas\n",
        "\n",
        "colores = [\"azul\",\"rojo\",\"verde\",\"violeta\"]\n",
        "otros_colores = colores\n",
        "print(colores)\n",
        "print(otros_colores)\n",
        "otros_colores.append(\"rosa\")\n",
        "print(colores)\n",
        "print(otros_colores)\n",
        "\n",
        "#funcion copy\n",
        "una_mas = colores.copy()\n",
        "print(una_mas)\n",
        "una_mas.append(\"gris\")\n",
        "print(una_mas)\n",
        "print(colores)\n",
        "\n",
        "\n",
        "# unpacking listas\n",
        "alumno = [\"Jesus\",\"Perez\",\"Herrera\", 22,\"ICO\",10.0]\n",
        "# nombre = alumno[0]\n",
        "# paterno = alumno[1]\n",
        "\n",
        "nombre,paterno,materno,edad,carrera,promedio = alumno\n",
        "print(f\"Alumno: {nombre} carrera: {carrera} promedio: {promedio}\")"
      ],
      "execution_count": 24,
      "outputs": [
        {
          "output_type": "stream",
          "text": [
            "['manzana', 'pera', 'aguacate', 'sandia']\n",
            "['manzana', 'pera', 'aguacate', 'sandia', ['aguacate', 'sandia']]\n",
            "['azul', 'rojo', 'verde', 'violeta']\n",
            "['azul', 'rojo', 'verde', 'violeta']\n",
            "['azul', 'rojo', 'verde', 'violeta', 'rosa']\n",
            "['azul', 'rojo', 'verde', 'violeta', 'rosa']\n",
            "['azul', 'rojo', 'verde', 'violeta', 'rosa']\n",
            "['azul', 'rojo', 'verde', 'violeta', 'rosa', 'gris']\n",
            "['azul', 'rojo', 'verde', 'violeta', 'rosa']\n",
            "Alumno: Jesus carrera: ICO promedio: 10.0\n"
          ],
          "name": "stdout"
        }
      ]
    },
    {
      "cell_type": "markdown",
      "metadata": {
        "id": "bAoPFWMhR4o-"
      },
      "source": [
        "# Tuplas\n",
        "- se declaran con ( )\n",
        "- selector [ ]\n",
        "- NO son mutables"
      ]
    },
    {
      "cell_type": "code",
      "metadata": {
        "id": "ObdqUOE6SL0n",
        "outputId": "7bbd2674-b16a-43be-c4d7-aa17c7e86c45",
        "colab": {
          "base_uri": "https://localhost:8080/",
          "height": 68
        }
      },
      "source": [
        "precios = ( 99.90, 49.90, 12.45, 23.3, 33.44, 55.66 )\n",
        "print(precios[1])\n",
        "#precios[1] = 50.0\n",
        "print(precios)\n",
        "print(precios[2:4])"
      ],
      "execution_count": 31,
      "outputs": [
        {
          "output_type": "stream",
          "text": [
            "49.9\n",
            "(99.9, 49.9, 12.45, 23.3, 33.44, 55.66)\n",
            "(12.45, 23.3)\n"
          ],
          "name": "stdout"
        }
      ]
    },
    {
      "cell_type": "markdown",
      "metadata": {
        "id": "4q5o0mgDTkNc"
      },
      "source": [
        "# Diccionarios\n",
        "- Se declara con llave { }\n",
        "- Selector [ ]\n",
        "- Si son mutables\n",
        "- Conjunto de pares llave: valor\n",
        "- Equivalente a los Objetos JSON de JavaScript\n"
      ]
    },
    {
      "cell_type": "code",
      "metadata": {
        "id": "zarxSoWiT2BG",
        "outputId": "16fd6a26-b151-4d1f-ae2a-4d32f3631b5e",
        "colab": {
          "base_uri": "https://localhost:8080/",
          "height": 139
        }
      },
      "source": [
        "cliente = {  }\n",
        "print(cliente)\n",
        " \n",
        "alumno = {  \"num_cta\" :317183360 }\n",
        "print(alumno)\n",
        "\n",
        "alumno = {\n",
        "            \"num_cta\" : 317183360 , \n",
        "            \"carrera\" : \"ICO\",\n",
        "            \"promedio\" : 9.8,\n",
        "            \"materias\" : [\"EDD\",\"CyP\",\"Calidad\",\"Emprendimiento\"],\n",
        "            \"direccion\" : {\n",
        "                            \"calle\" : \"rancho seco\",\n",
        "                            \"numero\" : 23,\n",
        "                            \"delegacion\" : \"Neza\",\n",
        "                            \"estado\" : {                                \n",
        "                                        \"id\" : 15,\n",
        "                                        \"nombre\" : \"Estado de Mexico\",\n",
        "                                        \"nombre_corto\" : \"Edomex\"   \n",
        "                                    }\n",
        "                        }\n",
        "        }\n",
        "\n",
        "\n",
        "print(alumno)\n",
        "print(alumno['materias'])\n",
        "print(alumno['promedio'])\n",
        "print(alumno['direccion']['estado']['nombre_corto'])"
      ],
      "execution_count": 39,
      "outputs": [
        {
          "output_type": "stream",
          "text": [
            "{}\n",
            "{'num_cta': 317183360}\n",
            "{'num_cta': 317183360, 'carrera': 'ICO', 'promedio': 9.8, 'materias': ['EDD', 'CyP', 'Calidad', 'Emprendimiento'], 'direccion': {'calle': 'rancho seco', 'numero': 23, 'delegacion': 'Neza', 'estado': {'id': 15, 'nombre': 'Estado de Mexico', 'nombre_corto': 'Edomex'}}}\n",
            "['EDD', 'CyP', 'Calidad', 'Emprendimiento']\n",
            "9.8\n",
            "Edomex\n"
          ],
          "name": "stdout"
        }
      ]
    }
  ]
}