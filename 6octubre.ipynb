{
  "nbformat": 4,
  "nbformat_minor": 0,
  "metadata": {
    "colab": {
      "name": "6octubre.ipynb",
      "provenance": [],
      "collapsed_sections": [],
      "authorship_tag": "ABX9TyMe7/CHHDaD/Epspuxf6Vyq",
      "include_colab_link": true
    },
    "kernelspec": {
      "name": "python3",
      "display_name": "Python 3"
    }
  },
  "cells": [
    {
      "cell_type": "markdown",
      "metadata": {
        "id": "view-in-github",
        "colab_type": "text"
      },
      "source": [
        "<a href=\"https://colab.research.google.com/github/Mik3Mon/edd_1310_2021/blob/master/6octubre.ipynb\" target=\"_parent\"><img src=\"https://colab.research.google.com/assets/colab-badge.svg\" alt=\"Open In Colab\"/></a>"
      ]
    },
    {
      "cell_type": "code",
      "metadata": {
        "id": "-ir5lfG3qZFZ",
        "outputId": "358861c9-a629-4915-d462-128621883dc9",
        "colab": {
          "base_uri": "https://localhost:8080/",
          "height": 340
        }
      },
      "source": [
        "# String continuación\n",
        "\n",
        "numeros_txt = \"  1, 2, 3, 4, 5,   15,  35,  32, 12\"\n",
        "print(numeros_txt)\n",
        "numeros_txt = numeros_txt.lstrip().split(',')\n",
        "print(numeros_txt)\n",
        "\n",
        "for j in range(len(numeros_txt)):\n",
        "    numeros_txt[ j ] = int(numeros_txt[j].strip())\n",
        "\n",
        "print(numeros_txt)\n",
        "\n",
        "\n",
        "# funcion range()\n",
        "\n",
        "# range(inicio, stop , incremento)\n",
        "print(range(1,10,3))\n",
        "rango = range(1,10,2)\n",
        "\n",
        "for x in rango:\n",
        "    print(x)\n",
        "\n",
        "rango = range(10)\n",
        "\n",
        "for x in rango:\n",
        "    print(x)"
      ],
      "execution_count": 9,
      "outputs": [
        {
          "output_type": "stream",
          "text": [
            "  1, 2, 3, 4, 5,   15,  35,  32, 12\n",
            "['1', ' 2', ' 3', ' 4', ' 5', '   15', '  35', '  32', ' 12']\n",
            "[1, 2, 3, 4, 5, 15, 35, 32, 12]\n",
            "range(1, 10, 3)\n",
            "1\n",
            "3\n",
            "5\n",
            "7\n",
            "9\n",
            "0\n",
            "1\n",
            "2\n",
            "3\n",
            "4\n",
            "5\n",
            "6\n",
            "7\n",
            "8\n",
            "9\n"
          ],
          "name": "stdout"
        }
      ]
    },
    {
      "cell_type": "markdown",
      "metadata": {
        "id": "mBkMbN_vxFF0"
      },
      "source": [
        "# Listas\n",
        "- Mutables\n",
        "- Declaran con [ ]\n",
        "- Selector [ int ]\n",
        "- Pueden ser de cualquier tipo de dato\n",
        "\n",
        "# Tuplas\n",
        "- NO mutables\n",
        "- Declara con ( )\n",
        "- Selectos [ int ]\n",
        "\n",
        "# Diccionarios\n",
        "- Mutables\n",
        "- Son un conjunto de pares llave: valor\n",
        "- Equivalentes a los Objetos JSON de JavaScript\n",
        "\n",
        "# Conjuntos\n",
        "- Representacion de la teoria de conjuntos\n"
      ]
    },
    {
      "cell_type": "code",
      "metadata": {
        "id": "cAAkGyNAyOP4",
        "outputId": "c7eb3582-4ea5-44b6-f6b3-4b77549382b3",
        "colab": {
          "base_uri": "https://localhost:8080/",
          "height": 136
        }
      },
      "source": [
        "# Listas\n",
        "frutas = [\"Pera\" , \"Manzana\" , \"fresa\" , \"Kiwi\" , \"Naranja\" ]\n",
        "print(frutas)\n",
        "cosas = [\"Cuaderno\" , 2 , 3.1416 , True , False , [\"Rojo\", \"Azul\"] ]\n",
        "print(cosas)\n",
        "frutas[2]=\"Fresa\"  # frutas[2] = frutas[2].capitalize()  \n",
        "print(frutas)\n",
        "\n",
        "# agregar a un lista\n",
        "frutas.append(\"Aguacate\")\n",
        "print(frutas)\n",
        "frutas.insert(2,\"Sandia\")\n",
        "print(frutas)\n",
        "\n",
        "# concatenar\n",
        "fecha = [\"6\",\"10\",\"2020\"]\n",
        "print(fecha)\n",
        "fecha_str = \"/\".join(fecha)\n",
        "print(fecha_str)\n"
      ],
      "execution_count": 31,
      "outputs": [
        {
          "output_type": "stream",
          "text": [
            "['Pera', 'Manzana', 'fresa', 'Kiwi', 'Naranja']\n",
            "['Cuaderno', 2, 3.1416, True, False, ['Rojo', 'Azul']]\n",
            "['Pera', 'Manzana', 'Fresa', 'Kiwi', 'Naranja']\n",
            "['Pera', 'Manzana', 'Fresa', 'Kiwi', 'Naranja', 'Aguacate']\n",
            "['Pera', 'Manzana', 'Sandia', 'Fresa', 'Kiwi', 'Naranja', 'Aguacate']\n",
            "['6', '10', '2020']\n",
            "6/10/2020\n"
          ],
          "name": "stdout"
        }
      ]
    },
    {
      "cell_type": "code",
      "metadata": {
        "id": "vkD14m3h3WZW",
        "outputId": "c51865f4-27f5-424c-e10a-25f983996a3c",
        "colab": {
          "base_uri": "https://localhost:8080/",
          "height": 187
        }
      },
      "source": [
        "# eliminar elementos\n",
        "cosas = [\"Cuaderno\" , 2 , 3.1416 , True , False , [\"Rojo\", \"Azul\"] ]\n",
        "print(cosas)\n",
        "cosas.append(\"Libro\")\n",
        "cosas.append(\"Lapiz\")\n",
        "print(cosas)\n",
        "algo = cosas.pop()\n",
        "print(cosas)\n",
        "print(algo)\n",
        "\n",
        "algo = cosas.pop(2)\n",
        "print(cosas)\n",
        "print(algo)\n",
        "\n",
        "cosas.remove(2)\n",
        "print(cosas)\n",
        "\n",
        "# vaciar una lista\n",
        "cosas.clear()\n",
        "print(cosas)\n",
        "\n",
        "# reordenar listas\n",
        "print(frutas)\n",
        "frutas.sort()\n",
        "print(frutas)"
      ],
      "execution_count": 33,
      "outputs": [
        {
          "output_type": "stream",
          "text": [
            "['Cuaderno', 2, 3.1416, True, False, ['Rojo', 'Azul']]\n",
            "['Cuaderno', 2, 3.1416, True, False, ['Rojo', 'Azul'], 'Libro', 'Lapiz']\n",
            "['Cuaderno', 2, 3.1416, True, False, ['Rojo', 'Azul'], 'Libro']\n",
            "Lapiz\n",
            "['Cuaderno', 2, True, False, ['Rojo', 'Azul'], 'Libro']\n",
            "3.1416\n",
            "['Cuaderno', True, False, ['Rojo', 'Azul'], 'Libro']\n",
            "[]\n",
            "['Pera', 'Manzana', 'Sandia', 'Fresa', 'Kiwi', 'Naranja', 'Aguacate']\n",
            "['Aguacate', 'Fresa', 'Kiwi', 'Manzana', 'Naranja', 'Pera', 'Sandia']\n"
          ],
          "name": "stdout"
        }
      ]
    },
    {
      "cell_type": "code",
      "metadata": {
        "id": "PtoZCNRC7J0Q",
        "outputId": "0d68dc85-0e87-4ddc-ebfd-98463e24e770",
        "colab": {
          "base_uri": "https://localhost:8080/",
          "height": 136
        }
      },
      "source": [
        "# slicing\n",
        "cosas = [\"Cuaderno\" , 2 , 3.1416 , True , False , [\"Rojo\", \"Azul\"] ]\n",
        "print(cosas[3:5:1])\n",
        "print(cosas)\n",
        "print(cosas[0][3:5:1])\n",
        "\n",
        "numeros = [1,2,3,4,5,6,7,8,9,10,11,12,13,14,15]\n",
        "print(numeros[7:12:1])\n",
        "\n",
        "# sustituir rebanadas -2 , -2\n",
        "numeros[7:12:] = [-2,2]\n",
        "print(numeros)\n",
        "\n",
        "# preguntar por existencia\n",
        "print(-2 in numeros)\n",
        "print(100 in numeros)"
      ],
      "execution_count": 43,
      "outputs": [
        {
          "output_type": "stream",
          "text": [
            "[True, False]\n",
            "['Cuaderno', 2, 3.1416, True, False, ['Rojo', 'Azul']]\n",
            "de\n",
            "[8, 9, 10, 11, 12]\n",
            "[1, 2, 3, 4, 5, 6, 7, -2, 2, 13, 14, 15]\n",
            "True\n",
            "False\n"
          ],
          "name": "stdout"
        }
      ]
    },
    {
      "cell_type": "markdown",
      "metadata": {
        "id": "BCcKi7OC-kC1"
      },
      "source": [
        "# Listas Multidimension\n",
        "\n",
        "listas dentro de listas"
      ]
    },
    {
      "cell_type": "code",
      "metadata": {
        "id": "1B_1RlpW-quT",
        "outputId": "293f8911-e89b-4de7-ee2e-cb0ad0d432e1",
        "colab": {
          "base_uri": "https://localhost:8080/",
          "height": 187
        }
      },
      "source": [
        "computadoras = [\"Hp\", \"Macbook Pro 17\", \"Matebook\", \"Lenovo Legion\" ]\n",
        "oss = [\"Windows 10\", \"Linux\", \"Android\", \"iOS\"]\n",
        "\n",
        "computo = [computadoras, oss ]\n",
        "print(computo[0])\n",
        "print(computo[1])\n",
        "print(computo[0][2])\n",
        "print(computo[0][2][0:4])\n",
        "print(computo[0][3][5::-1])\n",
        "print(computo[0][3][-8::-1])\n",
        "print(\"Linux\" in computo[1])\n",
        "dbms = [ [ \"MySQL\",\"OpenSourse\", False ],[\"MS SQL\",\"De paga\", True] ]\n",
        "computo.append(dbms)\n",
        "print(computo)\n",
        "print(computo[2][0][0])\n",
        "print(computo[2][1][1])"
      ],
      "execution_count": 58,
      "outputs": [
        {
          "output_type": "stream",
          "text": [
            "['Hp', 'Macbook Pro 17', 'Matebook', 'Lenovo Legion']\n",
            "['Windows 10', 'Linux', 'Android', 'iOS']\n",
            "Matebook\n",
            "Mate\n",
            "ovoneL\n",
            "ovoneL\n",
            "True\n",
            "[['Hp', 'Macbook Pro 17', 'Matebook', 'Lenovo Legion'], ['Windows 10', 'Linux', 'Android', 'iOS'], [['MySQL', 'OpenSourse', False], ['MS SQL', 'De paga', True]]]\n",
            "MySQL\n",
            "De paga\n"
          ],
          "name": "stdout"
        }
      ]
    }
  ]
}