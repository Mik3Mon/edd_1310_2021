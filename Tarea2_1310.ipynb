{
  "nbformat": 4,
  "nbformat_minor": 0,
  "metadata": {
    "colab": {
      "name": "Tarea2_1310.ipynb",
      "provenance": [],
      "collapsed_sections": [],
      "toc_visible": true,
      "include_colab_link": true
    },
    "kernelspec": {
      "name": "python3",
      "display_name": "Python 3"
    }
  },
  "cells": [
    {
      "cell_type": "markdown",
      "metadata": {
        "id": "view-in-github",
        "colab_type": "text"
      },
      "source": [
        "<a href=\"https://colab.research.google.com/github/Mik3Mon/edd_1310_2021/blob/master/Tarea2_1310.ipynb\" target=\"_parent\"><img src=\"https://colab.research.google.com/assets/colab-badge.svg\" alt=\"Open In Colab\"/></a>"
      ]
    },
    {
      "cell_type": "markdown",
      "metadata": {
        "id": "dUDUhCZQn66j"
      },
      "source": [
        "# IMPORTANTE\n",
        "\n",
        "Dado que colab no permite almacenar los archivos txt importados y estos se borran al tratar de ejecutarce en otra computadora, adjunte en la entrega de tarea el archivo txt sin modificar, a excepcion de la coma que faltaba para que no marcara error el compilador, por lo tanto antes de ejecutar el programa hay que importar el archivo txt que adjunte en la tarea.\n",
        "\n",
        "\n"
      ]
    },
    {
      "cell_type": "code",
      "metadata": {
        "id": "CQA-eS0JXbJu",
        "outputId": "e31a0110-9c92-4da9-c472-65d90bf1fbb3",
        "colab": {
          "base_uri": "https://localhost:8080/",
          "height": 714
        }
      },
      "source": [
        "arch = open(\"Datos.txt\",\"rt\")\n",
        "dat = 'num'\n",
        "suma_total = 0\n",
        "def sumar_renglon(lista):\n",
        "    suma = 0\n",
        "    for numero in lista:\n",
        "        suma += numero\n",
        "    return suma\n",
        "\n",
        "while (dat != ('')):\n",
        "    dat = arch.readline()\n",
        "    dat_2 = dat.strip().split(',')\n",
        "    try:\n",
        "        for j in range(len(dat_2)):\n",
        "            dat_2[j] = int(dat_2[j].strip())\n",
        "        print(dat_2)\n",
        "        print(f\"Resultado de la suma del renglon es: {sumar_renglon(dat_2)}\")\n",
        "        suma_total = sumar_renglon(dat_2) + suma_total\n",
        "    except:\n",
        "        print()\n",
        "        \n",
        "print(f\"La suma total es: {suma_total} \")\n",
        "arch.close()\n"
      ],
      "execution_count": 2,
      "outputs": [
        {
          "output_type": "stream",
          "text": [
            "[1, 2, 1, 14, 29, 45, 5, 58, 56, 10, 29, 14, 88, 17, 4, 3, 1, 7, 12, 10]\n",
            "Resultado de la suma del renglon es: 406\n",
            "\n",
            "[2, 23, 5, 8, 44, 2, 2, 13, 5, 9, 10, 16, 98, 76, 47, 1, 1, 3, 2]\n",
            "Resultado de la suma del renglon es: 367\n",
            "\n",
            "[3, 87, 15, 11, 9, 7, 90, 97, 21, 3, 4, 1, 8, 88, 74, 32, 34, 43, 17, 77, 93]\n",
            "Resultado de la suma del renglon es: 814\n",
            "\n",
            "[4, 46, 8, 1, 6, 2, 10, 37, 84, 4, 5, 9, 10, 2, 6, 3, 1, 1, 1, 8, 4, 20, 33, 23, 18, 45]\n",
            "Resultado de la suma del renglon es: 391\n",
            "\n",
            "[55, 3, 2, 29, 58, 83, 9, 17, 1, 43, 20, 93, 31, 46, 43, 77, 8, 44, 45, 17, 62]\n",
            "Resultado de la suma del renglon es: 786\n",
            "\n",
            "[6, 74, 13, 44, 18, 45, 11, 93, 2, 1, 1, 1, 25, 1, 42, 18, 22, 44, 52]\n",
            "Resultado de la suma del renglon es: 513\n",
            "\n",
            "[7, 88, 93, 6, 54, 2, 8, 1, 41, 86, 79, 33, 48, 9, 32, 63, 18, 7, 33, 2, 1, 16, 11, 7]\n",
            "Resultado de la suma del renglon es: 745\n",
            "\n",
            "[8, 0, 22, 17, 30, 6, 2, 12, 47, 37, 34, 85, 47, 33, 2, 6, 8, 4, 5, 29, 30, 42, 77, 2]\n",
            "Resultado de la suma del renglon es: 585\n",
            "\n",
            "[9, 2, 3, 4, 1, 1, 3, 6, 7, 7, 8, 9, 5, 1, 3, 4, 9, 10, 12, 3, 1, 5, 6, 22, 11, 0, 2]\n",
            "Resultado de la suma del renglon es: 154\n",
            "\n",
            "[1, 0, 2, 55, 9, 3, 55, 23, 1, 6, 9, 4, 5, 3, 3, 2, 1, 3, 8, 1, 6, 10, 0, 1, 5, 1, 3]\n",
            "Resultado de la suma del renglon es: 220\n",
            "\n",
            "\n",
            "\n",
            "\n",
            "\n",
            "\n",
            "\n",
            "\n",
            "\n",
            "\n",
            "\n",
            "La suma total es: 4981 \n"
          ],
          "name": "stdout"
        }
      ]
    }
  ]
}