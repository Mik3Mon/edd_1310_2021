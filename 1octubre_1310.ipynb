{
  "nbformat": 4,
  "nbformat_minor": 0,
  "metadata": {
    "colab": {
      "name": "1octubre_1310.ipynb",
      "provenance": [],
      "collapsed_sections": [],
      "authorship_tag": "ABX9TyNejXBFxLqVfpLJWcvbD0LC",
      "include_colab_link": true
    },
    "kernelspec": {
      "name": "python3",
      "display_name": "Python 3"
    }
  },
  "cells": [
    {
      "cell_type": "markdown",
      "metadata": {
        "id": "view-in-github",
        "colab_type": "text"
      },
      "source": [
        "<a href=\"https://colab.research.google.com/github/Mik3Mon/edd_1310_2021/blob/master/1octubre_1310.ipynb\" target=\"_parent\"><img src=\"https://colab.research.google.com/assets/colab-badge.svg\" alt=\"Open In Colab\"/></a>"
      ]
    },
    {
      "cell_type": "markdown",
      "metadata": {
        "id": "do-VUUUh7s06"
      },
      "source": [
        "## Intro Python 3\n",
        "### Variables\n",
        "tipo dinamico\n",
        "\n",
        "`escuela = \"Fes Aragon`\n",
        "\n"
      ]
    },
    {
      "cell_type": "code",
      "metadata": {
        "id": "OYoMXTn07IYo",
        "outputId": "e61696ba-bb0a-45f5-878b-b8de12dc44f2",
        "colab": {
          "base_uri": "https://localhost:8080/",
          "height": 187
        }
      },
      "source": [
        "escuela = 'Fes Aragon'\n",
        "print(escuela)\n",
        "print('--------')\n",
        "edad = 13\n",
        "estatura = 1.70\n",
        "fumador = True\n",
        "frase = \"\"\"\n",
        "Esta es\n",
        "una \n",
        "frase\n",
        "de multiples líneas\n",
        "y tambien es \n",
        "un tipo de dato\n",
        "\"\"\"\n",
        "print(frase)\n",
        "nombre = 'jose'\n",
        "nombre_completo = \"jose sosa cardenas\""
      ],
      "execution_count": 4,
      "outputs": [
        {
          "output_type": "stream",
          "text": [
            "Fes Aragon\n",
            "--------\n",
            "\n",
            "Esta es\n",
            "una \n",
            "frase\n",
            "de multiples líneas\n",
            "y tambien es \n",
            "un tipo de dato\n",
            "\n"
          ],
          "name": "stdout"
        }
      ]
    },
    {
      "cell_type": "markdown",
      "metadata": {
        "id": "vsJtwKr096SJ"
      },
      "source": [
        "# Print\n",
        "con comas ,\n",
        "\n",
        "con signo mas +\n",
        "\n",
        "con format ()\n",
        " \n",
        "con el operador f\""
      ]
    },
    {
      "cell_type": "code",
      "metadata": {
        "id": "Aeh-5gVM-KJB",
        "outputId": "5560f267-728f-4f92-c08d-20bc79a844b7",
        "colab": {
          "base_uri": "https://localhost:8080/",
          "height": 34
        }
      },
      "source": [
        "# la coma funciona como un espacio y no se debe cambiar el tipo de dato\n",
        "print(nombre,edad)"
      ],
      "execution_count": 6,
      "outputs": [
        {
          "output_type": "stream",
          "text": [
            "jose 13\n"
          ],
          "name": "stdout"
        }
      ]
    },
    {
      "cell_type": "code",
      "metadata": {
        "id": "JXF0OFRd_CH2",
        "outputId": "d6ac8728-10c0-46bb-8ad6-914cede6e652",
        "colab": {
          "base_uri": "https://localhost:8080/",
          "height": 51
        }
      },
      "source": [
        "# el + concatena cadenas (se deben convertir los tipos de datos)\n",
        "# el + no pone espacios\n",
        "print(nombre + str(edad))\n",
        "print(nombre + nombre_completo)"
      ],
      "execution_count": 8,
      "outputs": [
        {
          "output_type": "stream",
          "text": [
            "jose13\n",
            "josejose sosa cardenas\n"
          ],
          "name": "stdout"
        }
      ]
    },
    {
      "cell_type": "code",
      "metadata": {
        "id": "0g7IyLJRANfA",
        "outputId": "0333eebf-2114-4349-df07-a61edb905ca8",
        "colab": {
          "base_uri": "https://localhost:8080/",
          "height": 68
        }
      },
      "source": [
        "# con formato -> Su nombre es Jose y su edad es 13 años.\n",
        "print(\"Su nombre es\",nombre,\"y su edad es de\",edad,'años')\n",
        "print(\"Su nombre es {0} y su edad es de {1} años\".format(nombre,edad))\n",
        "print(\"Su nombre es {1} y su edad es de {0} años\".format(nombre,edad))"
      ],
      "execution_count": 12,
      "outputs": [
        {
          "output_type": "stream",
          "text": [
            "Su nombre es jose y su edad es de 13 años\n",
            "Su nombre es jose y su edad es de 13 años\n",
            "Su nombre es 13 y su edad es de jose años\n"
          ],
          "name": "stdout"
        }
      ]
    },
    {
      "cell_type": "code",
      "metadata": {
        "id": "rqZmexnQB9Z_",
        "outputId": "c145acc1-6bfa-4ff5-c54f-7184756b4508",
        "colab": {
          "base_uri": "https://localhost:8080/",
          "height": 34
        }
      },
      "source": [
        "# con formato con el operador f\"\"\n",
        "print(f\"Su nombre es {nombre} y su edad es de {edad} años\")"
      ],
      "execution_count": 13,
      "outputs": [
        {
          "output_type": "stream",
          "text": [
            "Su nombre es jose y su edad es de 13 años\n"
          ],
          "name": "stdout"
        }
      ]
    },
    {
      "cell_type": "markdown",
      "metadata": {
        "id": "W5C3LxHKCw6E"
      },
      "source": [
        "# Carácter de escape\n",
        "\\n salto de linea\n",
        "\n",
        "\\t tabulador\n",
        "\n",
        "\\a beep\n",
        "\n",
        "\\\\\" imprimir comilla doble\n",
        "\n",
        "\\\\' imprimir comilla simple"
      ]
    },
    {
      "cell_type": "code",
      "metadata": {
        "id": "tvn60tc2DHyY",
        "outputId": "cdb6bfed-fe85-4190-ba66-0d6b1a3d683d",
        "colab": {
          "base_uri": "https://localhost:8080/",
          "height": 51
        }
      },
      "source": [
        "\"\"\"\n",
        "Esto es \n",
        "un comentario \n",
        "de multiple linea\n",
        "\"\"\"\n",
        "print(f\"\\tMi nombre es\\n\\t\\t {nombre}\")"
      ],
      "execution_count": 14,
      "outputs": [
        {
          "output_type": "stream",
          "text": [
            "\tMi nombre es\n",
            "\t\t jose\n"
          ],
          "name": "stdout"
        }
      ]
    },
    {
      "cell_type": "markdown",
      "metadata": {
        "id": "ZYx4syS0D5-X"
      },
      "source": [
        "# Ayuda de tipos de dato en Python\n",
        "dir()\n",
        "\n",
        "help() "
      ]
    },
    {
      "cell_type": "code",
      "metadata": {
        "id": "ZEqDQ0nPEORy"
      },
      "source": [
        "# str, int, float, bool ... list, dict, set\n",
        "help(str)"
      ],
      "execution_count": null,
      "outputs": []
    },
    {
      "cell_type": "code",
      "metadata": {
        "id": "9TKHmalCFPRY",
        "outputId": "46bd451c-5448-440a-bdf4-b6187a73cf2c",
        "colab": {
          "base_uri": "https://localhost:8080/",
          "height": 51
        }
      },
      "source": [
        "print(nombre_completo.capitalize() )\n",
        "print(nombre_completo.upper(), end=\"-----\" )\n",
        "print(nombre_completo.title() )"
      ],
      "execution_count": 20,
      "outputs": [
        {
          "output_type": "stream",
          "text": [
            "Jose sosa cardenas\n",
            "JOSE SOSA CARDENAS-----Jose Sosa Cardenas\n"
          ],
          "name": "stdout"
        }
      ]
    },
    {
      "cell_type": "markdown",
      "metadata": {
        "id": "DE6Tejc9GqPk"
      },
      "source": [
        "# Clase String\n",
        "Es manejada como un arreglo (c o java) o lista (python)\n",
        "\n",
        "`telefono = \"Huawei mate 30 pro\"`"
      ]
    },
    {
      "cell_type": "code",
      "metadata": {
        "id": "vkxa68SmHFnF",
        "outputId": "71697c56-39c2-4261-c271-efd5da463b28",
        "colab": {
          "base_uri": "https://localhost:8080/",
          "height": 34
        }
      },
      "source": [
        "telefono = \"Huawei mate 30 pro\"\n",
        "print(telefono[5] )"
      ],
      "execution_count": 28,
      "outputs": [
        {
          "output_type": "stream",
          "text": [
            "i\n"
          ],
          "name": "stdout"
        }
      ]
    },
    {
      "cell_type": "markdown",
      "metadata": {
        "id": "-BsjcqsFIgBN"
      },
      "source": [
        "# Slicing (rebanado)\n",
        "\n",
        "[ini : stop : incremento]\n",
        "\n",
        "nota el stop no se incluye, termina en el valor anterior al stop"
      ]
    },
    {
      "cell_type": "code",
      "metadata": {
        "id": "WlhfeKQKIxzt",
        "outputId": "75a985b0-b13a-41cc-a1f6-33a5e6e8e853",
        "colab": {
          "base_uri": "https://localhost:8080/",
          "height": 102
        }
      },
      "source": [
        "print(telefono[7:11:1])\n",
        "# el inicio y el incremento son opcionales\n",
        "print(telefono[:11:])\n",
        "# el valor por defecto de stop es len(str)\n",
        "print(telefono[::])\n",
        "# incremento negativo\n",
        "print(telefono[::-1])\n",
        "# slacing negativo\n",
        "ini = -3\n",
        "inc = 1\n",
        "print(telefono[ini::inc])\n",
        " "
      ],
      "execution_count": 34,
      "outputs": [
        {
          "output_type": "stream",
          "text": [
            "mate\n",
            "Huawei mate\n",
            "Huawei mate 30 pro\n",
            "orp 03 etam iewauH\n",
            "pro\n"
          ],
          "name": "stdout"
        }
      ]
    },
    {
      "cell_type": "markdown",
      "metadata": {
        "id": "HVpy2bnSNUaF"
      },
      "source": [
        "# Metodos  de String (str)\n",
        "\n",
        "Existen métodos muy útiles en esta clase"
      ]
    },
    {
      "cell_type": "code",
      "metadata": {
        "id": "RJ0oHtP_Ne2T",
        "outputId": "def29488-de95-4967-d484-d57b07ff629b",
        "colab": {
          "base_uri": "https://localhost:8080/",
          "height": 357
        }
      },
      "source": [
        "facultad = \"    facultad de estudios superiores aragon      \\n\"\n",
        "print(facultad)\n",
        "# .count cuenta los caracteres\n",
        "print(facultad.count(\"u\"))\n",
        "# .find busca el indice del substring buscado\n",
        "print(facultad.find(\"s\"))\n",
        "# .strip remueve los espacios en blanco al inicio\n",
        "print(facultad.strip())\n",
        "# len regresa la longitud del string\n",
        "tamaño = len(facultad)\n",
        "print(len(facultad))\n",
        "print(f\"tamaño de la cadena es {tamaño} caracteres\")\n",
        "# .split separa la cadena en el caracter que seleccionemos\n",
        "print(facultad)\n",
        "print(facultad.strip().split(\" \"))\n",
        "print(\"--------------\")\n",
        "#copiar cadenas\n",
        "otra_cadena = facultad\n",
        "print(otra_cadena)\n",
        "otra_cadena = \"FES Aragón\"\n",
        "print(facultad)\n",
        "print(otra_cadena)\n",
        "#copiar listas\n",
        "colores = [\"rojo\", \"verde\"]\n",
        "otra = colores\n",
        "print(colores)\n",
        "print(otra)\n",
        "otra.append(\"rosa\")\n",
        "print(colores)\n",
        "print(otra)"
      ],
      "execution_count": 56,
      "outputs": [
        {
          "output_type": "stream",
          "text": [
            "    facultad de estudios superiores aragon      \n",
            "\n",
            "3\n",
            "17\n",
            "facultad de estudios superiores aragon\n",
            "49\n",
            "tamaño de la cadena es 49 caracteres\n",
            "    facultad de estudios superiores aragon      \n",
            "\n",
            "['facultad', 'de', 'estudios', 'superiores', 'aragon']\n",
            "--------------\n",
            "    facultad de estudios superiores aragon      \n",
            "\n",
            "    facultad de estudios superiores aragon      \n",
            "\n",
            "FES Aragón\n",
            "['rojo', 'verde']\n",
            "['rojo', 'verde']\n",
            "['rojo', 'verde', 'rosa']\n",
            "['rojo', 'verde', 'rosa']\n"
          ],
          "name": "stdout"
        }
      ]
    }
  ]
}