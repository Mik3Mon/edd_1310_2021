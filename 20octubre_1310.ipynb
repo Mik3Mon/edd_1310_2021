{
  "nbformat": 4,
  "nbformat_minor": 0,
  "metadata": {
    "colab": {
      "name": "20octubre_1310.ipynb",
      "provenance": [],
      "authorship_tag": "ABX9TyPXFMNgtXb9AubaiURt75H4",
      "include_colab_link": true
    },
    "kernelspec": {
      "name": "python3",
      "display_name": "Python 3"
    }
  },
  "cells": [
    {
      "cell_type": "markdown",
      "metadata": {
        "id": "view-in-github",
        "colab_type": "text"
      },
      "source": [
        "<a href=\"https://colab.research.google.com/github/Mik3Mon/edd_1310_2021/blob/master/20octubre_1310.ipynb\" target=\"_parent\"><img src=\"https://colab.research.google.com/assets/colab-badge.svg\" alt=\"Open In Colab\"/></a>"
      ]
    },
    {
      "cell_type": "code",
      "metadata": {
        "id": "-bokrY9kwgct",
        "outputId": "a1bbc0a7-002d-45e4-9474-f36c8c46c138",
        "colab": {
          "base_uri": "https://localhost:8080/",
          "height": 272
        }
      },
      "source": [
        "archivo = open('numeros.txt', 'rt')\n",
        "for linea in archivo.readlines():\n",
        "    for trunc in linea.split(','):\n",
        "        print(int(trunc.strip()))"
      ],
      "execution_count": 13,
      "outputs": [
        {
          "output_type": "stream",
          "text": [
            "23\n",
            "23\n",
            "44\n",
            "55\n",
            "5\n",
            "44\n",
            "4\n",
            "5\n",
            "7\n",
            "7\n",
            "6\n",
            "5\n",
            "4\n",
            "2\n",
            "1\n"
          ],
          "name": "stdout"
        }
      ]
    },
    {
      "cell_type": "markdown",
      "metadata": {
        "id": "3ca695rE2mfN"
      },
      "source": [
        "# Sintaxis del for en Python\n",
        "\n",
        "dos versiones de for\n",
        "1. range\n",
        "2. in iterator\n",
        "\n"
      ]
    },
    {
      "cell_type": "code",
      "metadata": {
        "id": "RCG2qNyt274O",
        "outputId": "5930dc79-0ff9-4ba2-efc4-559b41c85509",
        "colab": {
          "base_uri": "https://localhost:8080/",
          "height": 170
        }
      },
      "source": [
        "r = range(0,10,2)\n",
        "for x in r:\n",
        "    print(x)\n",
        "\n",
        "colores = ['rojo','rosa','azul','fucsia']\n",
        "\n",
        "for indice in range(0,4,1): # for(indice =o;indice <4;i++)\n",
        "    #print(colores[indice])\n",
        "    colores[indice]=colores[indice].upper() + str(indice)\n",
        "\n",
        "# for sobre un iterador\n",
        "\n",
        "for col in colores:\n",
        "    print(col)"
      ],
      "execution_count": 24,
      "outputs": [
        {
          "output_type": "stream",
          "text": [
            "0\n",
            "2\n",
            "4\n",
            "6\n",
            "8\n",
            "ROJO0\n",
            "ROSA1\n",
            "AZUL2\n",
            "FUCSIA3\n"
          ],
          "name": "stdout"
        }
      ]
    },
    {
      "cell_type": "markdown",
      "metadata": {
        "id": "hrgYVywh78dt"
      },
      "source": [
        "# Generadores\n",
        "\n",
        "[ valor for x in range(10) ]\n",
        "\n",
        "[[0,0,0],\n",
        " [0,0,0],\n",
        " [0,0,0]]\n",
        "\n",
        "3x3"
      ]
    },
    {
      "cell_type": "code",
      "metadata": {
        "id": "QzdqyzOk8Vws",
        "outputId": "7da2bae5-8101-4eda-da33-d4ac21d2f8cb",
        "colab": {
          "base_uri": "https://localhost:8080/",
          "height": 68
        }
      },
      "source": [
        "lista = [ x for x in range(10) ] \n",
        "print(lista)\n",
        "\n",
        "lista=[[0,0,0] for x in range(3)]\n",
        "print (lista)\n"
      ],
      "execution_count": 31,
      "outputs": [
        {
          "output_type": "stream",
          "text": [
            "[0, 1, 2, 3, 4, 5, 6, 7, 8, 9]\n",
            "[[0, 0, 0], [0, 0, 0], [0, 0, 0]]\n"
          ],
          "name": "stdout"
        },
        {
          "output_type": "execute_result",
          "data": {
            "text/plain": [
              "[[0, 0, 0], [0, 0, 0], [0, 0, 0]]"
            ]
          },
          "metadata": {
            "tags": []
          },
          "execution_count": 31
        }
      ]
    },
    {
      "cell_type": "code",
      "metadata": {
        "id": "T0Np0nEq-Azj",
        "outputId": "04e870ff-5905-4e4b-f0cb-0005835a4fcd",
        "colab": {
          "base_uri": "https://localhost:8080/",
          "height": 34
        }
      },
      "source": [
        "ren = 3\n",
        "col = 3\n",
        "lista = [ [0 for x in range(col)] for x in range(ren) ]\n",
        "print(lista)"
      ],
      "execution_count": 34,
      "outputs": [
        {
          "output_type": "stream",
          "text": [
            "[[0, 0, 0], [0, 0, 0], [0, 0, 0]]\n"
          ],
          "name": "stdout"
        }
      ]
    },
    {
      "cell_type": "markdown",
      "metadata": {
        "id": "eoH_Tf1a_IUc"
      },
      "source": [
        "# POO en Python\n",
        "- Clase\n",
        "- Cracion de objetos\n",
        "- Constructor\n",
        "- Encapsulamiento\n",
        "- Metodos\n",
        "- Atributos\n",
        "- Herencia"
      ]
    },
    {
      "cell_type": "code",
      "metadata": {
        "id": "6nIEUSZU_ZB-",
        "outputId": "6a534f79-cefa-4ebf-c6a5-97d27d8e6132",
        "colab": {
          "base_uri": "https://localhost:8080/",
          "height": 34
        }
      },
      "source": [
        "class Computadora:\n",
        "    def __init__(self , m , p):\n",
        "        self.__marca=m\n",
        "        self.__procesador=p\n",
        "    \n",
        "    def to_string( self ):\n",
        "        return \"Marca:\"+self.__marca+\" Procesador:\"+self.__procesador\n",
        "\n",
        "mi_pc = Computadora(\"Toshiba\", \"Intel i7\")\n",
        "mi_pc.__marca=\"HP\"\n",
        "\n",
        "print(mi_pc.to_string())"
      ],
      "execution_count": 42,
      "outputs": [
        {
          "output_type": "stream",
          "text": [
            "Marca:Toshiba Procesador:Intel i7\n"
          ],
          "name": "stdout"
        }
      ]
    }
  ]
}