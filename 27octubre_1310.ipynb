{
  "nbformat": 4,
  "nbformat_minor": 0,
  "metadata": {
    "colab": {
      "name": "27octubre_1310.ipynb",
      "provenance": [],
      "authorship_tag": "ABX9TyMgtHp2CFYz6kJe9GOxBc0a",
      "include_colab_link": true
    },
    "kernelspec": {
      "name": "python3",
      "display_name": "Python 3"
    }
  },
  "cells": [
    {
      "cell_type": "markdown",
      "metadata": {
        "id": "view-in-github",
        "colab_type": "text"
      },
      "source": [
        "<a href=\"https://colab.research.google.com/github/Mik3Mon/edd_1310_2021/blob/master/27octubre_1310.ipynb\" target=\"_parent\"><img src=\"https://colab.research.google.com/assets/colab-badge.svg\" alt=\"Open In Colab\"/></a>"
      ]
    },
    {
      "cell_type": "code",
      "metadata": {
        "id": "rVn8dinw_TGi",
        "outputId": "550e1b7b-262a-438a-ad0c-942bc26aa2ef",
        "colab": {
          "base_uri": "https://localhost:8080/",
          "height": 68
        }
      },
      "source": [
        "class Computadora:\n",
        "    def __init__( self , m , p):\n",
        "        self.__marca = m\n",
        "        self.__procesador = p\n",
        "\n",
        "    def to_string( self ):\n",
        "        return \"Marca:\"+self.__marca+\" Procesador:\"+self.__procesador\n",
        "    \n",
        "    def set_marca( self , m ):\n",
        "        self.__marca = m\n",
        "    \n",
        "    def get_marca( self ):\n",
        "        return self.__marca\n",
        "\n",
        "    def set_procesador( self , p ):\n",
        "        self.__procesador = p\n",
        "    \n",
        "    def get_procesador( self ):\n",
        "        return self.__procesador\n",
        "\n",
        "\n",
        "mi_pc = Computadora(\"Toshiba\",\"Intel i7\")\n",
        "print(mi_pc.to_string())\n",
        "mi_pc.__marca=\"HP\"  # <- intentando cambiaar el valor privado\n",
        "mi_pc.set_marca(\"HP co.\")\n",
        "print(mi_pc.to_string())\n",
        "#print(mi_pc.__procesador())\n",
        "print(mi_pc.get_procesador())"
      ],
      "execution_count": 9,
      "outputs": [
        {
          "output_type": "stream",
          "text": [
            "Marca:Toshiba Procesador:Intel i7\n",
            "Marca:HP co. Procesador:Intel i7\n",
            "Intel i7\n"
          ],
          "name": "stdout"
        }
      ]
    },
    {
      "cell_type": "markdown",
      "metadata": {
        "id": "1Ei_1-hPEJGu"
      },
      "source": [
        "# Encapsulamiento Python 3\n",
        "## Tradicional tipo Java\n",
        "    setAtributo( val )\n",
        "    getAtributo( )\n",
        "## Estilo Python 3\n",
        "UTILIZANDO DECORADORES\n",
        "- @property\n",
        "- @atributo.setter"
      ]
    },
    {
      "cell_type": "code",
      "metadata": {
        "id": "-yK_J3fRH2sV",
        "outputId": "c361dae9-0046-4a71-ebcd-183ad74c05a4",
        "colab": {
          "base_uri": "https://localhost:8080/",
          "height": 119
        }
      },
      "source": [
        "class Computadora:\n",
        "    def __init__( self, m, p):\n",
        "        self.marca = m # se manda a llamar el decorador @property\n",
        "        self.procesador = p\n",
        "    \n",
        "    @property # se declara como atributo privado y funciona como metodo get\n",
        "    def marca( self ):\n",
        "        return self.__marca\n",
        "    \n",
        "    @marca.setter\n",
        "    def marca( self , m ):\n",
        "        print(\"En el setter de marca\")\n",
        "        self.__marca = m\n",
        "    \n",
        "    @property\n",
        "    def procesador( self ):\n",
        "        return self.__procesador\n",
        "    \n",
        "    @procesador.setter\n",
        "    def procesador( self , p ):\n",
        "        print(\"En el metodo set de procesador\")\n",
        "        self.__procesador = p\n",
        "    \n",
        "    def to_string( self ):\n",
        "        return \"Marca:\" + self.marca + \" Prcesador:\" + self.procesador\n",
        "\n",
        "mi_pc2 = Computadora(\"MacBook Pro\", \"Intel i7\")\n",
        "print(mi_pc2.to_string())\n",
        "mi_pc2.marca = \"Dell\"\n",
        "mi_pc2.procesador = \"i9\"\n",
        "print(mi_pc2.to_string())\n",
        "\n"
      ],
      "execution_count": 20,
      "outputs": [
        {
          "output_type": "stream",
          "text": [
            "En el setter de marca\n",
            "En el metodo set de procesador\n",
            "Marca:MacBook Pro Prcesador:Intel i7\n",
            "En el setter de marca\n",
            "En el metodo set de procesador\n",
            "Marca:Dell Prcesador:i9\n"
          ],
          "name": "stdout"
        }
      ]
    },
    {
      "cell_type": "code",
      "metadata": {
        "id": "twZaDwcsQjvU",
        "outputId": "428085db-d30e-4505-df47-d3dd14a0d5c5",
        "colab": {
          "base_uri": "https://localhost:8080/",
          "height": 85
        }
      },
      "source": [
        "# Herencia, pasando la clase base a la declaracion\n",
        "class ServidorEmpresarial( Computadora ):\n",
        "    def __init__( self ):\n",
        "        print(\"Hola servidor\")\n",
        "\n",
        "server = ServidorEmpresarial()\n",
        "server.marca = \"Sun Micro Systems\"\n",
        "server.procesador = \"Intel i7\"\n",
        "print(server.to_string())"
      ],
      "execution_count": 22,
      "outputs": [
        {
          "output_type": "stream",
          "text": [
            "Hola servidor\n",
            "En el setter de marca\n",
            "En el metodo set de procesador\n",
            "Marca:Sun Micro Systems Prcesador:Intel i7\n"
          ],
          "name": "stdout"
        }
      ]
    }
  ]
}