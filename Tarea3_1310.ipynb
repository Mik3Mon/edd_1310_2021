{
  "nbformat": 4,
  "nbformat_minor": 0,
  "metadata": {
    "colab": {
      "name": "Tarea3_1310.ipynb",
      "provenance": [],
      "collapsed_sections": [],
      "authorship_tag": "ABX9TyM20/VSc/ROB0sxwBf5k/UL",
      "include_colab_link": true
    },
    "kernelspec": {
      "name": "python3",
      "display_name": "Python 3"
    }
  },
  "cells": [
    {
      "cell_type": "markdown",
      "metadata": {
        "id": "view-in-github",
        "colab_type": "text"
      },
      "source": [
        "<a href=\"https://colab.research.google.com/github/Mik3Mon/edd_1310_2021/blob/master/Tarea3_1310.ipynb\" target=\"_parent\"><img src=\"https://colab.research.google.com/assets/colab-badge.svg\" alt=\"Open In Colab\"/></a>"
      ]
    },
    {
      "cell_type": "code",
      "metadata": {
        "id": "mALxqTo_qmmB",
        "outputId": "625846ca-effc-4cbf-9e36-ad3e8fa7251e",
        "colab": {
          "base_uri": "https://localhost:8080/",
          "height": 136
        }
      },
      "source": [
        "class Persona:\n",
        "    def __init__(self , n , e, es):\n",
        "        self.__nombre = n\n",
        "        self.__edad = e\n",
        "        self.__estatura = es\n",
        "    \n",
        "    def to_string( self ):\n",
        "        return \"Nombre:\"+self.__nombre+\" Edad:\"+self.__edad+\" Estatura:\"+self.__estatura\n",
        "    \n",
        "    def dormir( self ):\n",
        "        return \"Durmiendo\"\n",
        "    \n",
        "    def comer( self ):\n",
        "        return \"Comiendo\"\n",
        "\n",
        "per_1 = Persona(\"Miguel\", \"19 años\", \"1.70\")\n",
        "print(per_1.to_string())\n",
        "print(per_1.dormir())\n",
        "print(per_1.comer())\n",
        "print(\"\")\n",
        "\n",
        "class Celular:\n",
        "    def __init__(self , ma, mo, eme):\n",
        "        self.__marca = ma\n",
        "        self.__modelo = mo\n",
        "        self.__espacio_de_memoria = eme\n",
        "    \n",
        "    def to_string( self ):\n",
        "        return \"Marca:\"+self.__marca+\" Modelo:\"+self.__modelo+\" Espacio de memoria:\"+self.__espacio_de_memoria\n",
        "    \n",
        "    def llamar( self ):\n",
        "        return \"Llamando\"\n",
        "    \n",
        "    def poner_alarma( self ):\n",
        "        return \"Alarma programada\"\n",
        "\n",
        "cel_1 = Celular(\"Apple\", \"iPhone 12 pro\", \"128GB\")\n",
        "print(cel_1.to_string())\n",
        "print(cel_1.llamar())\n",
        "print(cel_1.poner_alarma())"
      ],
      "execution_count": 12,
      "outputs": [
        {
          "output_type": "stream",
          "text": [
            "Nombre:Miguel Edad:19 años Estatura:1.70\n",
            "Durmiendo\n",
            "Comiendo\n",
            "\n",
            "Marca:Apple Modelo:iPhone 12 pro Espacio de memoria:128GB\n",
            "Llamando\n",
            "Alarma programada\n"
          ],
          "name": "stdout"
        }
      ]
    }
  ]
}